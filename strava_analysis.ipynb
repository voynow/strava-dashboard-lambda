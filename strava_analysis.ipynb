{
 "cells": [
  {
   "cell_type": "code",
   "execution_count": 1,
   "id": "0153ee44-534d-4a4f-843c-d10a018eeb9e",
   "metadata": {
    "tags": []
   },
   "outputs": [],
   "source": [
    "import strava_utils\n",
    "import matplotlib.pyplot as plt\n",
    "\n",
    "plt.style.use('ggplot')"
   ]
  },
  {
   "cell_type": "code",
   "execution_count": 2,
   "id": "9b352fa7-21f9-4c08-a2ce-f27c6d52f0e7",
   "metadata": {
    "tags": []
   },
   "outputs": [],
   "source": [
    "df = strava_utils.data_preprocessing()\n",
    "\n",
    "fig = strava_utils.create_fig(df)\n",
    "\n",
    "strava_utils.update_dashboard(fig)"
   ]
  },
  {
   "cell_type": "code",
   "execution_count": 53,
   "id": "9a4ba6dc-1f3f-4f19-bad8-cb1f839879db",
   "metadata": {},
   "outputs": [],
   "source": []
  },
  {
   "cell_type": "code",
   "execution_count": null,
   "id": "c35c9d7f",
   "metadata": {},
   "outputs": [],
   "source": []
  }
 ],
 "metadata": {
  "instance_type": "ml.t3.medium",
  "kernelspec": {
   "display_name": "Python 3.8.0 ('venv': venv)",
   "language": "python",
   "name": "python3"
  },
  "language_info": {
   "codemirror_mode": {
    "name": "ipython",
    "version": 3
   },
   "file_extension": ".py",
   "mimetype": "text/x-python",
   "name": "python",
   "nbconvert_exporter": "python",
   "pygments_lexer": "ipython3",
   "version": "3.8.0"
  },
  "vscode": {
   "interpreter": {
    "hash": "1ca7cee273db76ee71728b7ac777fd61c148de7cec3e4f0f1a641bc00fd6c11b"
   }
  }
 },
 "nbformat": 4,
 "nbformat_minor": 5
}
