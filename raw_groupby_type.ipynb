{
 "cells": [
  {
   "cell_type": "code",
   "execution_count": 41,
   "id": "3046b564-840b-484b-a9b5-467dcf17494e",
   "metadata": {
    "tags": []
   },
   "outputs": [],
   "source": [
    "import boto3\n",
    "import json\n",
    "import pandas as pd"
   ]
  },
  {
   "cell_type": "code",
   "execution_count": 13,
   "id": "9b352fa7-21f9-4c08-a2ce-f27c6d52f0e7",
   "metadata": {
    "tags": []
   },
   "outputs": [],
   "source": [
    "bucket_name = \"strava-raw\"\n",
    "s3 = boto3.resource('s3')\n",
    "\n",
    "activities = []\n",
    "for obj in s3.Bucket(bucket_name).objects.all():\n",
    "    body_bytes = obj.get()['Body'].read()\n",
    "    activities.append(json.loads(body_bytes))"
   ]
  },
  {
   "cell_type": "code",
   "execution_count": 45,
   "id": "411d5e27-539f-4a8a-9e28-2bb60268e72f",
   "metadata": {
    "tags": []
   },
   "outputs": [],
   "source": [
    "keys = []\n",
    "[[keys.append(item) for item in activity] for activity in activities]\n",
    "unique_keys = set(keys)\n",
    "\n",
    "keys_by_activity = [[key for key in activity] for activity in activities]\n",
    "for keys in keys_by_activity:\n",
    "    remove_keys = []\n",
    "    for key in unique_keys:\n",
    "        if key not in keys:\n",
    "            remove_keys.append(key)\n",
    "    for key in remove_keys:\n",
    "        unique_keys.remove(key)\n",
    "\n",
    "df = pd.DataFrame([{key: activity[key] for key in unique_keys} for activity in activities])"
   ]
  },
  {
   "cell_type": "code",
   "execution_count": 61,
   "id": "ea58910b-240a-445c-95ea-f2457aec94c0",
   "metadata": {
    "tags": []
   },
   "outputs": [
    {
     "data": {
      "text/plain": [
       "type\n",
       "Hike                3\n",
       "Ride                3\n",
       "Run               116\n",
       "Walk                2\n",
       "WeightTraining    101\n",
       "Workout            15\n",
       "Yoga                1\n",
       "dtype: int64"
      ]
     },
     "execution_count": 61,
     "metadata": {},
     "output_type": "execute_result"
    }
   ],
   "source": [
    "df.groupby('type').size()"
   ]
  }
 ],
 "metadata": {
  "instance_type": "ml.t3.medium",
  "kernelspec": {
   "display_name": "Python 3 (Data Science)",
   "language": "python",
   "name": "python3__SAGEMAKER_INTERNAL__arn:aws:sagemaker:us-east-1:081325390199:image/datascience-1.0"
  },
  "language_info": {
   "codemirror_mode": {
    "name": "ipython",
    "version": 3
   },
   "file_extension": ".py",
   "mimetype": "text/x-python",
   "name": "python",
   "nbconvert_exporter": "python",
   "pygments_lexer": "ipython3",
   "version": "3.7.10"
  }
 },
 "nbformat": 4,
 "nbformat_minor": 5
}
